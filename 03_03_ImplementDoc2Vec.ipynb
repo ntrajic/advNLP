{
 "cells": [
  {
   "cell_type": "markdown",
   "metadata": {},
   "source": [
    "# doc2vec: How To Implement doc2vec"
   ]
  },
  {
   "cell_type": "markdown",
   "metadata": {},
   "source": [
    "### Train Our Own Model"
   ]
  },
  {
   "cell_type": "code",
   "execution_count": 1,
   "metadata": {},
   "outputs": [
    {
     "name": "stderr",
     "output_type": "stream",
     "text": [
      "/tmp/ipykernel_14442/958450471.py:3: DeprecationWarning: \n",
      "Pyarrow will become a required dependency of pandas in the next major release of pandas (pandas 3.0),\n",
      "(to allow more performant data types, such as the Arrow string type, and better interoperability with other libraries)\n",
      "but was not found to be installed on your system.\n",
      "If this would cause problems for you,\n",
      "please provide us feedback at https://github.com/pandas-dev/pandas/issues/54466\n",
      "        \n",
      "  import pandas as pd\n"
     ]
    }
   ],
   "source": [
    "# Read in data, clean it, and then split into train and test sets\n",
    "import gensim\n",
    "import pandas as pd\n",
    "from sklearn.model_selection import train_test_split\n",
    "pd.set_option('display.max_colwidth', 100)\n",
    "\n",
    "messages = pd.read_csv('data/spam.csv', encoding='latin-1')\n",
    "messages = messages.drop(labels = [\"Unnamed: 2\", \"Unnamed: 3\", \"Unnamed: 4\"], axis = 1)\n",
    "messages.columns = [\"label\", \"text\"]\n",
    "messages['text_clean'] = messages['text'].apply(lambda x: gensim.utils.simple_preprocess(x))\n",
    "\n",
    "X_train, X_test, y_train, y_test = train_test_split(messages['text_clean'],\n",
    "                                                    messages['label'], test_size=0.2)"
   ]
  },
  {
   "cell_type": "code",
   "execution_count": 2,
   "metadata": {},
   "outputs": [],
   "source": [
    "# Create tagged document objects to prepare to train the model\n",
    "tagged_docs = [gensim.models.doc2vec.TaggedDocument(v, [i]) for i, v in enumerate(X_train)]"
   ]
  },
  {
   "cell_type": "code",
   "execution_count": 3,
   "metadata": {},
   "outputs": [
    {
     "data": {
      "text/plain": [
       "TaggedDocument(words=['nothing', 'lor', 'bit', 'bored', 'too', 'then', 'dun', 'go', 'home', 'early', 'sleep', 'today'], tags=[0])"
      ]
     },
     "execution_count": 3,
     "metadata": {},
     "output_type": "execute_result"
    }
   ],
   "source": [
    "# Look at what a tagged document looks like\n",
    "tagged_docs[0]"
   ]
  },
  {
   "cell_type": "code",
   "execution_count": 4,
   "metadata": {},
   "outputs": [],
   "source": [
    "# Train a basic doc2vec model\n",
    "d2v_model = gensim.models.Doc2Vec(tagged_docs,\n",
    "                                  vector_size=100,\n",
    "                                  window=5,\n",
    "                                  min_count=2)"
   ]
  },
  {
   "cell_type": "code",
   "execution_count": 6,
   "metadata": {},
   "outputs": [
    {
     "data": {
      "text/plain": [
       "array([-1.80431865e-02,  8.37543234e-03,  6.17241487e-03, -3.44395498e-03,\n",
       "        3.45290522e-03, -3.62966582e-02, -1.96596906e-02,  6.09759130e-02,\n",
       "       -1.84559748e-02, -1.50382435e-02, -2.08117813e-02, -2.26940978e-02,\n",
       "        4.50779218e-03,  1.01694716e-02, -2.42809877e-02, -2.70336308e-02,\n",
       "        1.17012970e-02, -2.67291870e-02,  9.98055842e-03, -3.83110009e-02,\n",
       "        1.36352202e-03,  1.08455289e-02,  1.69306882e-02, -2.66350806e-03,\n",
       "       -6.54482422e-03, -1.18508879e-02, -6.84094196e-03, -1.51186222e-02,\n",
       "       -2.46240404e-02,  1.56936236e-02,  1.41401635e-02,  4.86529293e-03,\n",
       "        1.04783503e-02, -1.29865911e-02, -6.47423230e-03,  3.19251306e-02,\n",
       "        1.51302796e-02, -3.22629325e-02, -1.50373839e-02, -3.10964063e-02,\n",
       "       -1.05075510e-02, -1.04291718e-02, -1.17229857e-02, -2.22441088e-03,\n",
       "        1.10154385e-02, -8.57207738e-03, -1.49089685e-02, -1.18329341e-03,\n",
       "       -7.42972689e-03,  8.14653561e-03,  4.24240530e-03, -1.44670606e-02,\n",
       "       -5.12884278e-03,  3.06135067e-03, -9.36870743e-03,  1.12168211e-02,\n",
       "        1.10829915e-05, -1.28027964e-02, -2.34402642e-02,  3.21655395e-03,\n",
       "        1.21158967e-02, -6.49826229e-03,  5.00197383e-03, -5.64514613e-03,\n",
       "       -4.04003672e-02,  3.68865430e-02,  2.79350057e-02,  5.61610889e-03,\n",
       "       -2.37188693e-02,  2.54913270e-02,  6.28346985e-04,  2.39511132e-02,\n",
       "        1.62360705e-02, -3.83780082e-03,  2.36241370e-02, -1.27036870e-03,\n",
       "       -7.03923171e-03, -4.88402043e-03, -7.74155464e-03,  1.04785198e-02,\n",
       "       -1.95976645e-02,  2.15670131e-02, -2.04968899e-02,  4.97977138e-02,\n",
       "       -1.99189633e-02,  1.15217855e-02, -4.56333533e-03,  2.92618945e-02,\n",
       "        2.37301197e-02,  2.25705355e-02,  3.22081447e-02,  1.45453122e-02,\n",
       "       -5.63383196e-03,  1.27051603e-02,  3.30392495e-02,  1.51717588e-02,\n",
       "        4.66235448e-03, -2.69307643e-02,  3.88808222e-03,  1.54026207e-02],\n",
       "      dtype=float32)"
      ]
     },
     "execution_count": 6,
     "metadata": {},
     "output_type": "execute_result"
    }
   ],
   "source": [
    "# What happens if we pass in a single word like we did for word2vec?\n",
    "d2v_model.infer_vector(['text'])"
   ]
  },
  {
   "cell_type": "code",
   "execution_count": 7,
   "metadata": {},
   "outputs": [
    {
     "data": {
      "text/plain": [
       "array([-0.0099374 ,  0.0154734 ,  0.00442767,  0.00242123,  0.00422297,\n",
       "       -0.0320076 , -0.00012823,  0.0404783 , -0.02869176, -0.01635095,\n",
       "       -0.01653304, -0.02202714, -0.00741267,  0.01072358, -0.0090397 ,\n",
       "       -0.02561929,  0.00866255, -0.01565938, -0.00121497, -0.03019524,\n",
       "        0.01808571,  0.01705728,  0.02437944, -0.00096959, -0.00965553,\n",
       "       -0.00222158, -0.012289  , -0.01598782, -0.01431445,  0.00868111,\n",
       "        0.01703324,  0.00358201,  0.01063224, -0.00840601, -0.00804244,\n",
       "        0.02636494,  0.00330802, -0.01470087, -0.01007254, -0.03698661,\n",
       "       -0.00062674, -0.01730937, -0.00135942,  0.0029403 ,  0.00298335,\n",
       "       -0.01465081, -0.00550584, -0.00788276,  0.00659547,  0.00924875,\n",
       "       -0.00017958, -0.02128269,  0.01105198, -0.0039272 , -0.01228422,\n",
       "        0.00702484,  0.01346784, -0.00047194, -0.0266333 ,  0.0162513 ,\n",
       "        0.01688452, -0.00418266, -0.00035278,  0.00452123, -0.02205559,\n",
       "        0.02651102,  0.01764529,  0.00787011, -0.02420409,  0.0333861 ,\n",
       "        0.00125377,  0.01492314,  0.02463341, -0.00073717,  0.03000364,\n",
       "        0.00213323, -0.00159993,  0.00915556, -0.01447922, -0.00252366,\n",
       "       -0.01338404, -0.0010952 , -0.01914102,  0.03466911, -0.01597019,\n",
       "        0.00153056,  0.00216186,  0.01639002,  0.02253524,  0.01089408,\n",
       "        0.02459703,  0.00888281, -0.004178  ,  0.00471268,  0.03649889,\n",
       "        0.01198552,  0.00726055, -0.02040957, -0.00206768,  0.00652713],\n",
       "      dtype=float32)"
      ]
     },
     "execution_count": 7,
     "metadata": {},
     "output_type": "execute_result"
    }
   ],
   "source": [
    "# What happens if we pass in a list of words?\n",
    "d2v_model.infer_vector(['i', 'am', 'learning', 'nlp'])"
   ]
  },
  {
   "cell_type": "markdown",
   "metadata": {},
   "source": [
    "### What About Pre-trained Document Vectors?\n",
    "\n",
    "There are not as many options as there are for word vectors. There also is not an easy API to read these in like there is for `word2vec` so it is more time consuming.\n",
    "\n",
    "Pre-trained vectors from training on Wikipedia and Associated Press News can be found [here](https://github.com/jhlau/doc2vec). Feel free to explore on your own!"
   ]
  }
 ],
 "metadata": {
  "kernelspec": {
   "display_name": "Python 3",
   "language": "python",
   "name": "python3"
  },
  "language_info": {
   "codemirror_mode": {
    "name": "ipython",
    "version": 3
   },
   "file_extension": ".py",
   "mimetype": "text/x-python",
   "name": "python",
   "nbconvert_exporter": "python",
   "pygments_lexer": "ipython3",
   "version": "3.10.13"
  }
 },
 "nbformat": 4,
 "nbformat_minor": 1
}
